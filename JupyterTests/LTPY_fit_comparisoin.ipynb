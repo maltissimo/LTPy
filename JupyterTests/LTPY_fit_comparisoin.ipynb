{
 "cells": [
  {
   "cell_type": "code",
   "execution_count": 5,
   "id": "a706166f",
   "metadata": {},
   "outputs": [],
   "source": [
    "import numpy as np\n",
    "from matplotlib import pyplot as plt \n",
    "import math\n",
    "from scipy import integrate\n",
    "\n",
    "LENSFOCAL = 502.5 # this is in mm\n",
    "ZERO_X = 5280/2\n",
    "ZERO_Y = 4600 /2"
   ]
  },
  {
   "cell_type": "code",
   "execution_count": 6,
   "id": "2d29d5e9",
   "metadata": {},
   "outputs": [],
   "source": [
    "bessy= np.loadtxt(\"bessy.slp\")\n",
    "bessy_slope = bessy [:,1]\n",
    "\n",
    "#print(bessy_slope)\n",
    "#arrayX = bessy[:,0]"
   ]
  },
  {
   "cell_type": "code",
   "execution_count": 7,
   "id": "4962d728",
   "metadata": {},
   "outputs": [
    {
     "ename": "FileNotFoundError",
     "evalue": "FullData14-17_20250121.txt not found.",
     "output_type": "error",
     "traceback": [
      "\u001b[0;31m---------------------------------------------------------------------------\u001b[0m",
      "\u001b[0;31mFileNotFoundError\u001b[0m                         Traceback (most recent call last)",
      "Cell \u001b[0;32mIn[7], line 1\u001b[0m\n\u001b[0;32m----> 1\u001b[0m ltp_data \u001b[38;5;241m=\u001b[39m \u001b[43mnp\u001b[49m\u001b[38;5;241;43m.\u001b[39;49m\u001b[43mloadtxt\u001b[49m\u001b[43m(\u001b[49m\u001b[38;5;124;43m\"\u001b[39;49m\u001b[38;5;124;43mFullData14-17_20250121.txt\u001b[39;49m\u001b[38;5;124;43m\"\u001b[39;49m\u001b[43m,\u001b[49m\u001b[43m \u001b[49m\u001b[43mskiprows\u001b[49m\u001b[43m \u001b[49m\u001b[38;5;241;43m=\u001b[39;49m\u001b[43m \u001b[49m\u001b[38;5;241;43m7\u001b[39;49m\u001b[43m)\u001b[49m\n\u001b[1;32m      2\u001b[0m slope_file \u001b[38;5;241m=\u001b[39m np\u001b[38;5;241m.\u001b[39mloadtxt(\u001b[38;5;124m\"\u001b[39m\u001b[38;5;124mXpos_slopes14-17_20250121.txt\u001b[39m\u001b[38;5;124m\"\u001b[39m, skiprows \u001b[38;5;241m=\u001b[39m \u001b[38;5;241m1\u001b[39m )\n\u001b[1;32m      3\u001b[0m slope_data \u001b[38;5;241m=\u001b[39m slope_file[:,\u001b[38;5;241m1\u001b[39m]\n",
      "File \u001b[0;32m~/.local/lib/python3.8/site-packages/numpy/lib/npyio.py:1042\u001b[0m, in \u001b[0;36mloadtxt\u001b[0;34m(fname, dtype, comments, delimiter, converters, skiprows, usecols, unpack, ndmin, encoding, max_rows, like)\u001b[0m\n\u001b[1;32m   1040\u001b[0m     fname \u001b[38;5;241m=\u001b[39m os_fspath(fname)\n\u001b[1;32m   1041\u001b[0m \u001b[38;5;28;01mif\u001b[39;00m _is_string_like(fname):\n\u001b[0;32m-> 1042\u001b[0m     fh \u001b[38;5;241m=\u001b[39m \u001b[43mnp\u001b[49m\u001b[38;5;241;43m.\u001b[39;49m\u001b[43mlib\u001b[49m\u001b[38;5;241;43m.\u001b[39;49m\u001b[43m_datasource\u001b[49m\u001b[38;5;241;43m.\u001b[39;49m\u001b[43mopen\u001b[49m\u001b[43m(\u001b[49m\u001b[43mfname\u001b[49m\u001b[43m,\u001b[49m\u001b[43m \u001b[49m\u001b[38;5;124;43m'\u001b[39;49m\u001b[38;5;124;43mrt\u001b[39;49m\u001b[38;5;124;43m'\u001b[39;49m\u001b[43m,\u001b[49m\u001b[43m \u001b[49m\u001b[43mencoding\u001b[49m\u001b[38;5;241;43m=\u001b[39;49m\u001b[43mencoding\u001b[49m\u001b[43m)\u001b[49m\n\u001b[1;32m   1043\u001b[0m     fencoding \u001b[38;5;241m=\u001b[39m \u001b[38;5;28mgetattr\u001b[39m(fh, \u001b[38;5;124m'\u001b[39m\u001b[38;5;124mencoding\u001b[39m\u001b[38;5;124m'\u001b[39m, \u001b[38;5;124m'\u001b[39m\u001b[38;5;124mlatin1\u001b[39m\u001b[38;5;124m'\u001b[39m)\n\u001b[1;32m   1044\u001b[0m     line_iter \u001b[38;5;241m=\u001b[39m \u001b[38;5;28miter\u001b[39m(fh)\n",
      "File \u001b[0;32m~/.local/lib/python3.8/site-packages/numpy/lib/_datasource.py:193\u001b[0m, in \u001b[0;36mopen\u001b[0;34m(path, mode, destpath, encoding, newline)\u001b[0m\n\u001b[1;32m    156\u001b[0m \u001b[38;5;250m\u001b[39m\u001b[38;5;124;03m\"\"\"\u001b[39;00m\n\u001b[1;32m    157\u001b[0m \u001b[38;5;124;03mOpen `path` with `mode` and return the file object.\u001b[39;00m\n\u001b[1;32m    158\u001b[0m \n\u001b[0;32m   (...)\u001b[0m\n\u001b[1;32m    189\u001b[0m \n\u001b[1;32m    190\u001b[0m \u001b[38;5;124;03m\"\"\"\u001b[39;00m\n\u001b[1;32m    192\u001b[0m ds \u001b[38;5;241m=\u001b[39m DataSource(destpath)\n\u001b[0;32m--> 193\u001b[0m \u001b[38;5;28;01mreturn\u001b[39;00m \u001b[43mds\u001b[49m\u001b[38;5;241;43m.\u001b[39;49m\u001b[43mopen\u001b[49m\u001b[43m(\u001b[49m\u001b[43mpath\u001b[49m\u001b[43m,\u001b[49m\u001b[43m \u001b[49m\u001b[43mmode\u001b[49m\u001b[43m,\u001b[49m\u001b[43m \u001b[49m\u001b[43mencoding\u001b[49m\u001b[38;5;241;43m=\u001b[39;49m\u001b[43mencoding\u001b[49m\u001b[43m,\u001b[49m\u001b[43m \u001b[49m\u001b[43mnewline\u001b[49m\u001b[38;5;241;43m=\u001b[39;49m\u001b[43mnewline\u001b[49m\u001b[43m)\u001b[49m\n",
      "File \u001b[0;32m~/.local/lib/python3.8/site-packages/numpy/lib/_datasource.py:532\u001b[0m, in \u001b[0;36mDataSource.open\u001b[0;34m(self, path, mode, encoding, newline)\u001b[0m\n\u001b[1;32m    529\u001b[0m     \u001b[38;5;28;01mreturn\u001b[39;00m _file_openers[ext](found, mode\u001b[38;5;241m=\u001b[39mmode,\n\u001b[1;32m    530\u001b[0m                               encoding\u001b[38;5;241m=\u001b[39mencoding, newline\u001b[38;5;241m=\u001b[39mnewline)\n\u001b[1;32m    531\u001b[0m \u001b[38;5;28;01melse\u001b[39;00m:\n\u001b[0;32m--> 532\u001b[0m     \u001b[38;5;28;01mraise\u001b[39;00m \u001b[38;5;167;01mFileNotFoundError\u001b[39;00m(\u001b[38;5;124mf\u001b[39m\u001b[38;5;124m\"\u001b[39m\u001b[38;5;132;01m{\u001b[39;00mpath\u001b[38;5;132;01m}\u001b[39;00m\u001b[38;5;124m not found.\u001b[39m\u001b[38;5;124m\"\u001b[39m)\n",
      "\u001b[0;31mFileNotFoundError\u001b[0m: FullData14-17_20250121.txt not found."
     ]
    }
   ],
   "source": [
    "ltp_data = np.loadtxt(\"FullData14-17_20250121.txt\", skiprows = 7)\n",
    "slope_file = np.loadtxt(\"Xpos_slopes14-17_20250121.txt\", skiprows = 1 )\n",
    "slope_data = slope_file[:,1]\n",
    "slope_X = slope_file[:,0]\n",
    "slopeXpos = slope_X - slope_X[0]\n",
    "#print(slope_data)\n",
    "#ltp_data = np.loadtxt(\"FullData16-58_20250116.txt\", skiprows = 7) this is the best dataset so far. \n",
    "#LTP data is X pos, Y Pos, Average Centroid X, Average Centroid Y, so I need the last column)\n",
    "avgX = ltp_data[:,2]\n",
    "avgY = ltp_data[:,3]\n",
    "#print(ltp_data)\n",
    "x_column = ltp_data[:,0]\n",
    "diff = x_column[-1] - x_column[0]\n",
    "print(diff)\n",
    "startPos = x_column[0]\n",
    "Xpos = np.arange(0,len(x_column), 1)\n",
    "\n",
    "#print(avgX - avgY)\n"
   ]
  },
  {
   "cell_type": "code",
   "execution_count": 10,
   "id": "0e698f85",
   "metadata": {},
   "outputs": [
    {
     "name": "stdout",
     "output_type": "stream",
     "text": [
      "241\n",
      "[  0   1   2   3   4   5   6   7   8   9  10  11  12  13  14  15  16  17\n",
      "  18  19  20  21  22  23  24  25  26  27  28  29  30  31  32  33  34  35\n",
      "  36  37  38  39  40  41  42  43  44  45  46  47  48  49  50  51  52  53\n",
      "  54  55  56  57  58  59  60  61  62  63  64  65  66  67  68  69  70  71\n",
      "  72  73  74  75  76  77  78  79  80  81  82  83  84  85  86  87  88  89\n",
      "  90  91  92  93  94  95  96  97  98  99 100 101 102 103 104 105 106 107\n",
      " 108 109 110 111 112 113 114 115 116 117 118 119 120 121 122 123 124 125\n",
      " 126 127 128 129 130 131 132 133 134 135 136 137 138 139 140 141 142 143\n",
      " 144 145 146 147 148 149 150 151 152 153 154 155 156 157 158 159 160 161\n",
      " 162 163 164 165 166 167 168 169 170 171 172 173 174 175 176 177 178 179\n",
      " 180 181 182 183 184 185 186 187 188 189 190 191 192 193 194 195 196 197\n",
      " 198 199 200 201 202 203 204 205 206 207 208 209 210 211 212 213 214 215\n",
      " 216 217 218 219 220 221 222 223 224 225 226 227 228 229 230 231 232 233\n",
      " 234 235 236 237 238 239 240]\n"
     ]
    }
   ],
   "source": [
    "print(len(x_column))\n",
    "alan = np.arange(0,len(x_column), 1)\n",
    "print(alan)"
   ]
  },
  {
   "cell_type": "code",
   "execution_count": 9,
   "id": "c99b9b92",
   "metadata": {},
   "outputs": [],
   "source": [
    "def slope_calc(value, focal):\n",
    "    slope_error = 0.5 * (math.atan((2.74 * (ZERO_Y - value))/(focal* 1000))) # this is in microns, so in µrad? \n",
    "    return(slope_error)\n",
    "def my_fit (arrayX, arrayY, order):\n",
    "    coeff = np.polyfit(arrayX, arrayY, order)\n",
    "    p = np.poly1d(coeff)\n",
    "    fit = p(arrayX)\n",
    "    radius = 1 /coeff[0]\n",
    "    return(fit, radius)\n",
    "def RMS(array):\n",
    "    RMS = np.sqrt(np.mean(array**2))\n",
    "    return(RMS)\n",
    "\n",
    "def figure_error(arrayX, arrayY):\n",
    "    \"\"\"\n",
    "    Calculates the figure error given and array of positions/slopes\n",
    "    :param arrayX: y-position of the centroid? or X-position of the head?\n",
    "    :param arrayY: slopes\n",
    "    :return: an array, heights.\n",
    "    \"\"\"\n",
    "\n",
    "    heights = []\n",
    "    heights = integrate.cumtrapz(arrayX, arrayY, initial=0)\n",
    "    return (heights)"
   ]
  },
  {
   "cell_type": "code",
   "execution_count": 10,
   "id": "2b421bb8",
   "metadata": {},
   "outputs": [
    {
     "ename": "NameError",
     "evalue": "name 'avgY' is not defined",
     "output_type": "error",
     "traceback": [
      "\u001b[0;31m---------------------------------------------------------------------------\u001b[0m",
      "\u001b[0;31mNameError\u001b[0m                                 Traceback (most recent call last)",
      "Cell \u001b[0;32mIn[10], line 1\u001b[0m\n\u001b[0;32m----> 1\u001b[0m slope_array \u001b[38;5;241m=\u001b[39m np\u001b[38;5;241m.\u001b[39mzeros(\u001b[38;5;28mlen\u001b[39m(\u001b[43mavgY\u001b[49m))\n\u001b[1;32m      2\u001b[0m \u001b[38;5;28;01mfor\u001b[39;00m i \u001b[38;5;129;01min\u001b[39;00m \u001b[38;5;28mrange\u001b[39m (\u001b[38;5;28mlen\u001b[39m(avgY)):\n\u001b[1;32m      3\u001b[0m     slope_array [i] \u001b[38;5;241m=\u001b[39m slope_calc(avgY[i], focal \u001b[38;5;241m=\u001b[39m \u001b[38;5;241m400\u001b[39m)\n",
      "\u001b[0;31mNameError\u001b[0m: name 'avgY' is not defined"
     ]
    }
   ],
   "source": [
    "slope_array = np.zeros(len(avgY))\n",
    "for i in range (len(avgY)):\n",
    "    slope_array [i] = slope_calc(avgY[i], focal = 400)\n",
    "    #print(slope_array[i])\n",
    "\n",
    "\"\"\"oldX = arrayX\n",
    "arrayX = oldX[:-1].copy()\n",
    "print(len(slope_array))\n",
    "print(len(arrayX))\n",
    "print(len(avgY))\"\"\"\n",
    "fit, radius = my_fit(Xpos, slope_array, 1)"
   ]
  },
  {
   "cell_type": "code",
   "execution_count": 8,
   "id": "02be64f8",
   "metadata": {},
   "outputs": [
    {
     "ename": "NameError",
     "evalue": "name 'Xpos' is not defined",
     "output_type": "error",
     "traceback": [
      "\u001b[0;31m---------------------------------------------------------------------------\u001b[0m",
      "\u001b[0;31mNameError\u001b[0m                                 Traceback (most recent call last)",
      "Cell \u001b[0;32mIn[8], line 6\u001b[0m\n\u001b[1;32m      1\u001b[0m plt\u001b[38;5;241m.\u001b[39mfigure()\n\u001b[1;32m      2\u001b[0m \u001b[38;5;66;03m#plt.plot(Xpos/1000, fit * 1000, label = \"myfit\")\u001b[39;00m\n\u001b[1;32m      3\u001b[0m \u001b[38;5;66;03m#plt.plot(Xpos/1000, (slope_array - fit) *1000000, label = \"myslope - myfit, f = 400\")\u001b[39;00m\n\u001b[1;32m      4\u001b[0m \u001b[38;5;66;03m#plt.plot(Xpos/1000, slope_array*1000, label = \"slope array, unfitted\", marker = \"d\")\u001b[39;00m\n\u001b[1;32m      5\u001b[0m \u001b[38;5;66;03m#plt.plot(Xpos, slope_array * 1000, label = \"myslope\")\u001b[39;00m\n\u001b[0;32m----> 6\u001b[0m plt\u001b[38;5;241m.\u001b[39mplot(\u001b[43mXpos\u001b[49m\u001b[38;5;241m/\u001b[39m\u001b[38;5;241m1000\u001b[39m, bessy_slope, label \u001b[38;5;241m=\u001b[39m \u001b[38;5;124m\"\u001b[39m\u001b[38;5;124mBessy\u001b[39m\u001b[38;5;124m\"\u001b[39m)\n\u001b[1;32m      8\u001b[0m plt\u001b[38;5;241m.\u001b[39mxlabel(\u001b[38;5;124m\"\u001b[39m\u001b[38;5;124mX position [mm]\u001b[39m\u001b[38;5;124m\"\u001b[39m)\n\u001b[1;32m      9\u001b[0m plt\u001b[38;5;241m.\u001b[39mylabel(\u001b[38;5;124m\"\u001b[39m\u001b[38;5;124mSlope erorr [µrad]\u001b[39m\u001b[38;5;124m\"\u001b[39m)\n",
      "\u001b[0;31mNameError\u001b[0m: name 'Xpos' is not defined"
     ]
    },
    {
     "data": {
      "text/plain": [
       "<Figure size 640x480 with 0 Axes>"
      ]
     },
     "metadata": {},
     "output_type": "display_data"
    }
   ],
   "source": [
    "plt.figure()\n",
    "#plt.plot(Xpos/1000, fit * 1000, label = \"myfit\")\n",
    "#plt.plot(Xpos/1000, (slope_array - fit) *1000000, label = \"myslope - myfit, f = 400\")\n",
    "#plt.plot(Xpos/1000, slope_array*1000, label = \"slope array, unfitted\", marker = \"d\")\n",
    "#plt.plot(Xpos, slope_array * 1000, label = \"myslope\")\n",
    "plt.plot(Xpos/1000, bessy_slope, label = \"Bessy\")\n",
    "\n",
    "plt.xlabel(\"X position [mm]\")\n",
    "plt.ylabel(\"Slope erorr [µrad]\")\n",
    "plt.legend()\n",
    "plt.show()"
   ]
  },
  {
   "cell_type": "code",
   "execution_count": 4,
   "id": "ca5673cb",
   "metadata": {
    "scrolled": false
   },
   "outputs": [
    {
     "ename": "NameError",
     "evalue": "name 'avgY' is not defined",
     "output_type": "error",
     "traceback": [
      "\u001b[0;31m---------------------------------------------------------------------------\u001b[0m",
      "\u001b[0;31mNameError\u001b[0m                                 Traceback (most recent call last)",
      "Cell \u001b[0;32mIn[4], line 1\u001b[0m\n\u001b[0;32m----> 1\u001b[0m slope_array_600 \u001b[38;5;241m=\u001b[39m np\u001b[38;5;241m.\u001b[39mzeros(\u001b[38;5;28mlen\u001b[39m(\u001b[43mavgY\u001b[49m))\n\u001b[1;32m      3\u001b[0m \u001b[38;5;28;01mfor\u001b[39;00m i \u001b[38;5;129;01min\u001b[39;00m \u001b[38;5;28mrange\u001b[39m (\u001b[38;5;28mlen\u001b[39m(avgY)):\n\u001b[1;32m      4\u001b[0m     slope_array_600 [i] \u001b[38;5;241m=\u001b[39m slope_calc(avgY[i], focal \u001b[38;5;241m=\u001b[39m \u001b[38;5;241m600.0\u001b[39m)\n",
      "\u001b[0;31mNameError\u001b[0m: name 'avgY' is not defined"
     ]
    }
   ],
   "source": [
    "slope_array_600 = np.zeros(len(avgY))\n",
    "\n",
    "for i in range (len(avgY)):\n",
    "    slope_array_600 [i] = slope_calc(avgY[i], focal = 600.0)\n",
    "    #print(slope_array[i])\n",
    "fit_600, radius_600 = my_fit(Xpos, slope_array_600, 1)\n",
    "\n",
    "slope_array_500 = np.zeros(len(avgY))\n",
    "for i in range (len(avgY)):\n",
    "    slope_array_500 [i] = slope_calc(avgY[i], focal = 502.5)\n",
    "    #print(slope_array[i])\n",
    "fit_500, radius_500 = my_fit(Xpos, slope_array_500, 1)\n",
    "\n",
    "slope_array_400 = np.zeros(len(avgY))\n",
    "\n",
    "for i in range (len(avgY)):\n",
    "    slope_array_400 [i] = slope_calc(avgY[i], focal = 400.0)\n",
    "    #print(slope_array[i])\n",
    "fit_400, radius_400 = my_fit(Xpos, slope_array_400, 1)\n",
    "\n",
    "slope, fit = my_fit(slopeXpos, slope_data, 1)\n",
    "heights = figure_error(Xpos,slope_array_500 - fit_500 )\n",
    "rms_heights = RMS(heights)\n",
    "\n",
    "    \n",
    "\"\"\"oldX = arrayX\n",
    "arrayX = oldX[:-1].copy()\n",
    "print(len(slope_array))\n",
    "print(len(arrayX))\n",
    "print(len(avgY))\n",
    "fit, radius = my_fit(Xpos, slope_array, 1)\"\"\"\n",
    "plt.figure()\n",
    "plt.plot(Xpos/1000, (slope_array_600 - fit_600) *1000000, label = \"RMS slope = 1.88 µrad\")\n",
    "#plt.plot(Xpos/1000, (slope - fit )* 1000000, label = \"Slope from LTP, f = 502.5 mm\")\n",
    "#plt.plot(Xpos, slope_array * 1000, label = \"myslope\")\n",
    "plt.plot(Xpos/1000, bessy_slope, label = \"Bessy slope = 0.8688 µrad\")\n",
    "\n",
    "plt.xlabel(\"X position [mm]\")\n",
    "plt.ylabel(\"Slope erorr [µrad]\")\n",
    "plt.legend()\n",
    "plt.show()\n",
    "heights_bessy = figure_error(Xpos, bessy_slope)\n",
    "print(RMS(slope_array_500-fit_500))\n",
    "print(rms_heights)\n",
    "print(\"bessy heights rms: \", RMS(heights_bessy)/1000)\n",
    "print(RMS(bessy_slope))"
   ]
  },
  {
   "cell_type": "code",
   "execution_count": null,
   "id": "0ad5c2a9",
   "metadata": {},
   "outputs": [],
   "source": []
  }
 ],
 "metadata": {
  "kernelspec": {
   "display_name": "Python 3 (ipykernel)",
   "language": "python",
   "name": "python3"
  },
  "language_info": {
   "codemirror_mode": {
    "name": "ipython",
    "version": 3
   },
   "file_extension": ".py",
   "mimetype": "text/x-python",
   "name": "python",
   "nbconvert_exporter": "python",
   "pygments_lexer": "ipython3",
   "version": "3.8.10"
  }
 },
 "nbformat": 4,
 "nbformat_minor": 5
}
