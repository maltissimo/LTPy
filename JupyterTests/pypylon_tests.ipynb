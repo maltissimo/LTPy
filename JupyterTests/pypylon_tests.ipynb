{
 "cells": [
  {
   "cell_type": "code",
   "execution_count": 1,
   "id": "3e5b6c7b",
   "metadata": {},
   "outputs": [],
   "source": [
    "import pypylon.pylon as py\n",
    "import matplotlib.pyplot as plt\n",
    "import numpy as np\n"
   ]
  },
  {
   "cell_type": "code",
   "execution_count": 79,
   "id": "90de0892",
   "metadata": {},
   "outputs": [
    {
     "name": "stdout",
     "output_type": "stream",
     "text": [
      "25 ns ± 0.0564 ns per loop (mean ± std. dev. of 7 runs, 10,000,000 loops each)\n"
     ]
    }
   ],
   "source": [
    "%%timeit\n",
    "\n",
    "def Initcam():\n",
    "    tlf = py.TlFactory.GetInstance()\n",
    "    devices = tlf.EnumerateDevices()\n",
    "    \n",
    "    mycam = py.InstantCamera(tlf.CreateDevice(devices[0]))\n",
    "    \n",
    "    return (mycam)"
   ]
  },
  {
   "cell_type": "code",
   "execution_count": 80,
   "id": "a4c7ce17",
   "metadata": {},
   "outputs": [],
   "source": [
    "def acquire(mycam):\n",
    "    result = mycam.GrabOne(100)\n",
    "    myimg = result.GetArray()\n",
    "    return(myimg)\n"
   ]
  },
  {
   "cell_type": "code",
   "execution_count": 81,
   "id": "ab2d5355",
   "metadata": {},
   "outputs": [],
   "source": [
    "camera1 = Initcam() #this takes about 300ms...\n",
    "camera1.Open()      #this takes about 200 ms"
   ]
  },
  {
   "cell_type": "code",
   "execution_count": 82,
   "id": "85a95634",
   "metadata": {},
   "outputs": [],
   "source": [
    "\n",
    "image = acquire(camera1) #this takes about 300 ms. "
   ]
  },
  {
   "cell_type": "code",
   "execution_count": 83,
   "id": "f18af2b2",
   "metadata": {},
   "outputs": [
    {
     "name": "stdout",
     "output_type": "stream",
     "text": [
      "<class 'numpy.ndarray'>\n"
     ]
    }
   ],
   "source": [
    "print(type(image))"
   ]
  },
  {
   "cell_type": "code",
   "execution_count": 84,
   "id": "6cea69b6",
   "metadata": {},
   "outputs": [
    {
     "data": {
      "text/plain": [
       "(4600, 5280)"
      ]
     },
     "execution_count": 84,
     "metadata": {},
     "output_type": "execute_result"
    }
   ],
   "source": [
    "np.shape(image)"
   ]
  },
  {
   "cell_type": "code",
   "execution_count": 85,
   "id": "b9f25191",
   "metadata": {},
   "outputs": [],
   "source": [
    "from scipy import ndimage\n",
    "def get_centroid (ndarray):\n",
    "    centroid = ndimage.center_of_mass((ndarray))\n",
    "    return (centroid)"
   ]
  },
  {
   "cell_type": "code",
   "execution_count": 86,
   "id": "4cd65892",
   "metadata": {},
   "outputs": [],
   "source": [
    "\n",
    "center = get_centroid(image) #this takes about 110 ms."
   ]
  },
  {
   "cell_type": "code",
   "execution_count": 87,
   "id": "4f646112",
   "metadata": {},
   "outputs": [
    {
     "data": {
      "text/plain": [
       "(2281.443280792328, 2630.305159147291)"
      ]
     },
     "execution_count": 87,
     "metadata": {},
     "output_type": "execute_result"
    }
   ],
   "source": [
    "center"
   ]
  },
  {
   "cell_type": "code",
   "execution_count": 50,
   "id": "8328ab10",
   "metadata": {},
   "outputs": [
    {
     "name": "stdout",
     "output_type": "stream",
     "text": [
      "(4600, 5280)\n"
     ]
    }
   ],
   "source": [
    "test = np.shape(image)\n",
    "print(test)"
   ]
  },
  {
   "cell_type": "code",
   "execution_count": 69,
   "id": "2e9e7485",
   "metadata": {},
   "outputs": [],
   "source": [
    "alan = np.zeros((test))"
   ]
  },
  {
   "cell_type": "code",
   "execution_count": 70,
   "id": "3bb22ed0",
   "metadata": {},
   "outputs": [
    {
     "name": "stdout",
     "output_type": "stream",
     "text": [
      "[[0. 0. 0. ... 0. 0. 0.]\n",
      " [0. 0. 0. ... 0. 0. 0.]\n",
      " [0. 0. 0. ... 0. 0. 0.]\n",
      " ...\n",
      " [0. 0. 0. ... 0. 0. 0.]\n",
      " [0. 0. 0. ... 0. 0. 0.]\n",
      " [0. 0. 0. ... 0. 0. 0.]]\n"
     ]
    }
   ],
   "source": [
    "print(alan)"
   ]
  },
  {
   "cell_type": "code",
   "execution_count": 64,
   "id": "1386e3e4",
   "metadata": {},
   "outputs": [
    {
     "name": "stdout",
     "output_type": "stream",
     "text": [
      "(4600, 5280)\n"
     ]
    }
   ],
   "source": [
    "print(np.shape(alan/2))"
   ]
  },
  {
   "cell_type": "code",
   "execution_count": 76,
   "id": "0554b303",
   "metadata": {},
   "outputs": [],
   "source": []
  },
  {
   "cell_type": "code",
   "execution_count": 78,
   "id": "28555536",
   "metadata": {},
   "outputs": [
    {
     "name": "stdout",
     "output_type": "stream",
     "text": [
      "3.56 s ± 19.5 ms per loop (mean ± std. dev. of 7 runs, 1 loop each)\n"
     ]
    }
   ],
   "source": [
    "%%timeit\n",
    "\n",
    "alan = np.zeros((4600,5280))\n",
    "for i in range (0,10):\n",
    "    alan = alan + acquire(camera1)\n",
    "    \n"
   ]
  },
  {
   "cell_type": "code",
   "execution_count": null,
   "id": "5eedb87d",
   "metadata": {},
   "outputs": [],
   "source": []
  }
 ],
 "metadata": {
  "kernelspec": {
   "display_name": "Python 3 (ipykernel)",
   "language": "python",
   "name": "python3"
  },
  "language_info": {
   "codemirror_mode": {
    "name": "ipython",
    "version": 3
   },
   "file_extension": ".py",
   "mimetype": "text/x-python",
   "name": "python",
   "nbconvert_exporter": "python",
   "pygments_lexer": "ipython3",
   "version": "3.8.10"
  }
 },
 "nbformat": 4,
 "nbformat_minor": 5
}
